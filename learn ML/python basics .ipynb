{
 "cells": [
  {
   "cell_type": "markdown",
   "id": "e15ae33d",
   "metadata": {},
   "source": [
    "# Python Basics\n",
    "## Variables and Data Types\n",
    "Python variables do not require explicit type declarations. The type is determined by the value assigned."
   ]
  },
  {
   "cell_type": "code",
   "execution_count": 7,
   "id": "c3849876",
   "metadata": {},
   "outputs": [],
   "source": [
    "# String - for text data\n",
    "name = \"John\"\n",
    "\n",
    "# Integer - for whole numbers\n",
    "age = 30\n",
    "\n",
    "# Float - for decimal numbers\n",
    "height = 5.9\n",
    "\n",
    "# Boolean - for true/false values\n",
    "is_student = True\n",
    "\n",
    "# List - ordered, changeable collection\n",
    "my_list = [1, 2, 3]\n",
    "\n",
    "# Dictionary - key-value pairs\n",
    "my_dict = {\"a\": 1, \"b\": 2}"
   ]
  },
  {
   "cell_type": "markdown",
   "id": "c6c9ca34",
   "metadata": {},
   "source": [
    "# Control Flow\n",
    "Control flow directs the execution path of your program, allowing you to make decisions and repeat actions.\n",
    "\n",
    "## Conditionals\n",
    "Conditionals create decision points in your code:"
   ]
  },
  {
   "cell_type": "code",
   "execution_count": 8,
   "id": "0dbdc828",
   "metadata": {},
   "outputs": [
    {
     "name": "stdout",
     "output_type": "stream",
     "text": [
      "It's nice weather!\n"
     ]
    }
   ],
   "source": [
    "temperature = 25\n",
    "\n",
    "if temperature > 30:\n",
    "    print(\"It's hot outside!\")\n",
    "elif temperature > 20:\n",
    "    print(\"It's nice weather!\")\n",
    "else:\n",
    "    print(\"It's cold outside!\")"
   ]
  },
  {
   "cell_type": "markdown",
   "id": "85a34812",
   "metadata": {},
   "source": [
    "## Loops\n",
    "Loops execute code repeatedly:"
   ]
  },
  {
   "cell_type": "code",
   "execution_count": 9,
   "id": "db581845",
   "metadata": {},
   "outputs": [
    {
     "name": "stdout",
     "output_type": "stream",
     "text": [
      "I like apple\n",
      "I like banana\n",
      "I like cherry\n",
      "Number: 0\n",
      "Number: 1\n",
      "Number: 2\n",
      "Number: 3\n",
      "Number: 4\n",
      "Count is 0\n",
      "Count is 1\n",
      "Count is 2\n",
      "Count is 3\n",
      "Count is 4\n"
     ]
    }
   ],
   "source": [
    "# For loop - iterates through a sequence\n",
    "fruits = [\"apple\", \"banana\", \"cherry\"]\n",
    "for fruit in fruits:\n",
    "    print(f\"I like {fruit}\")\n",
    "\n",
    "# Range creates a sequence of numbers\n",
    "for i in range(5):  # 0 to 4\n",
    "    print(f\"Number: {i}\")\n",
    "\n",
    "# While loop - continues until condition becomes false\n",
    "count = 0\n",
    "while count < 5:\n",
    "    print(f\"Count is {count}\")\n",
    "    count += 1\n"
   ]
  },
  {
   "cell_type": "markdown",
   "id": "dd6151e7",
   "metadata": {},
   "source": [
    "## Functions\n",
    "Functions are reusable code blocks that perform specific tasks:"
   ]
  },
  {
   "cell_type": "code",
   "execution_count": 10,
   "id": "c68880ae",
   "metadata": {},
   "outputs": [
    {
     "name": "stdout",
     "output_type": "stream",
     "text": [
      "Hello, Alice!\n",
      "Hi, Bob!\n"
     ]
    }
   ],
   "source": [
    "def greet(name, greeting=\"Hello\"):\n",
    "    \"\"\"Return a personalized greeting.\n",
    "\n",
    "    Parameters:\n",
    "    name (str): The name of the person to greet\n",
    "    greeting (str, optional): The greeting phrase. Defaults to \"Hello\"\n",
    "\n",
    "    Returns:\n",
    "    str: A formatted greeting message\n",
    "    \"\"\"\n",
    "    return f\"{greeting}, {name}!\"\n",
    "\n",
    "# Default parameter\n",
    "message = greet(\"Alice\")\n",
    "print(message)  # Hello, Alice!\n",
    "\n",
    "# Override default\n",
    "message = greet(\"Bob\", \"Hi\")\n",
    "print(message)  # Hi, Bob!\n"
   ]
  },
  {
   "cell_type": "markdown",
   "id": "eb843bf3",
   "metadata": {},
   "source": [
    "## Object-Oriented Programming\n",
    "Object-Oriented Programming (OOP) lets you create reusable, modular code through classes and objects:"
   ]
  },
  {
   "cell_type": "code",
   "execution_count": 11,
   "id": "88b464eb",
   "metadata": {},
   "outputs": [
    {
     "name": "stdout",
     "output_type": "stream",
     "text": [
      "My name is Bob and I'm 20 years old.\n",
      "Bob is studying Computer Science.\n"
     ]
    }
   ],
   "source": [
    "# Class definition\n",
    "class Person:\n",
    "    def __init__(self, name, age):\n",
    "        self.name = name\n",
    "        self.age = age\n",
    "\n",
    "    def introduce(self):\n",
    "        return f\"My name is {self.name} and I'm {self.age} years old.\"\n",
    "\n",
    "# Inheritance - Student inherits from Person\n",
    "class Student(Person):\n",
    "    def __init__(self, name, age, major):\n",
    "        super().__init__(name, age)\n",
    "        self.major = major\n",
    "\n",
    "    def study(self):\n",
    "        return f\"{self.name} is studying {self.major}.\"\n",
    "\n",
    "# Creating an instance\n",
    "bob = Student(\"Bob\", 20, \"Computer Science\")\n",
    "print(bob.introduce())  # My name is Bob and I'm 20 years old.\n",
    "print(bob.study())      # Bob is studying Computer Science."
   ]
  },
  {
   "cell_type": "markdown",
   "id": "1f7e11bf",
   "metadata": {},
   "source": [
    "## Error Handling\n",
    "Error handling prevents your program from crashing when problems occur:"
   ]
  },
  {
   "cell_type": "code",
   "execution_count": 12,
   "id": "e0da499b",
   "metadata": {},
   "outputs": [
    {
     "name": "stdout",
     "output_type": "stream",
     "text": [
      "Cannot divide by zero!\n",
      "This will always execute\n"
     ]
    }
   ],
   "source": [
    "try:\n",
    "    # Code that might cause an error\n",
    "    result = 10 / 0\n",
    "except ZeroDivisionError:\n",
    "    print(\"Cannot divide by zero!\")\n",
    "except Exception as e:\n",
    "    print(f\"An error occurred: {e}\")\n",
    "finally:\n",
    "    print(\"This will always execute\")"
   ]
  },
  {
   "cell_type": "markdown",
   "id": "0867ccc4",
   "metadata": {},
   "source": [
    "## File Input/Output\n",
    "File operations let you read from and write to files:"
   ]
  },
  {
   "cell_type": "code",
   "execution_count": 13,
   "id": "6e50b37c",
   "metadata": {},
   "outputs": [
    {
     "name": "stdout",
     "output_type": "stream",
     "text": [
      "Hello, world!\n",
      "This is a sample file.\n"
     ]
    }
   ],
   "source": [
    "# Writing to a file\n",
    "with open('sample.txt', 'w') as file:\n",
    "    file.write('Hello, world!\\n')\n",
    "    file.write('This is a sample file.')\n",
    "\n",
    "# Reading from a file\n",
    "with open('sample.txt', 'r') as file:\n",
    "    content = file.read()\n",
    "    print(content)\n"
   ]
  }
 ],
 "metadata": {
  "kernelspec": {
   "display_name": "base",
   "language": "python",
   "name": "python3"
  },
  "language_info": {
   "codemirror_mode": {
    "name": "ipython",
    "version": 3
   },
   "file_extension": ".py",
   "mimetype": "text/x-python",
   "name": "python",
   "nbconvert_exporter": "python",
   "pygments_lexer": "ipython3",
   "version": "3.13.5"
  }
 },
 "nbformat": 4,
 "nbformat_minor": 5
}
