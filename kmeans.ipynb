{
 "cells": [
  {
   "cell_type": "code",
   "execution_count": 2,
   "id": "7df5586b",
   "metadata": {},
   "outputs": [],
   "source": [
    "import numpy as np"
   ]
  },
  {
   "cell_type": "code",
   "execution_count": 3,
   "id": "dfb03829",
   "metadata": {},
   "outputs": [
    {
     "name": "stdout",
     "output_type": "stream",
     "text": [
      "[[1 2 3]\n",
      " [2 4 5]]\n",
      "<class 'numpy.ndarray'>\n",
      "(2, 3)\n",
      "2\n",
      "6\n",
      "int32\n",
      "int32\n"
     ]
    }
   ],
   "source": [
    "a = np.array([[1,2,3],\n",
    "             [2,4 ,\"5\"]], dtype= np.int32 )\n",
    "print(a)\n",
    "print(type(a))\n",
    "print(a.shape)\n",
    "print(a.ndim)\n",
    "print(a.size)\n",
    "print(a.dtype)\n",
    "print(a[0][0].dtype)"
   ]
  },
  {
   "cell_type": "code",
   "execution_count": 4,
   "id": "ab24b406",
   "metadata": {},
   "outputs": [
    {
     "name": "stdout",
     "output_type": "stream",
     "text": [
      "[[12 12 12]\n",
      " [12 12 12]] \n",
      "\n",
      "[[0. 0. 0. 0. 0.]\n",
      " [0. 0. 0. 0. 0.]] \n",
      "\n",
      "[[0. 0.]\n",
      " [0. 0.]\n",
      " [0. 0.]\n",
      " [0. 0.]\n",
      " [0. 0.]]\n",
      "[[1. 1. 1. 1. 1.]\n",
      " [1. 1. 1. 1. 1.]\n",
      " [1. 1. 1. 1. 1.]\n",
      " [1. 1. 1. 1. 1.]\n",
      " [1. 1. 1. 1. 1.]]\n",
      "[[1. 1. 1. 1. 1.]\n",
      " [1. 1. 1. 1. 1.]\n",
      " [1. 1. 1. 1. 1.]\n",
      " [1. 1. 1. 1. 1.]\n",
      " [1. 1. 1. 1. 1.]]\n"
     ]
    }
   ],
   "source": [
    "a = np.full((2, 3), 12)\n",
    "print(a, \"\\n\")\n",
    "\n",
    "a = np.zeros((2, 5))\n",
    "print(a , \"\\n\")\n",
    "\n",
    "print(a.T)\n",
    "\n",
    "a = np.ones((5, 5))\n",
    "print(a)\n",
    "\n",
    "a = np.empty((5, 5))\n",
    "print(a)"
   ]
  },
  {
   "cell_type": "code",
   "execution_count": 5,
   "id": "86957c9c",
   "metadata": {},
   "outputs": [
    {
     "name": "stdout",
     "output_type": "stream",
     "text": [
      "1.4142135623730951\n",
      "[inf]\n"
     ]
    },
    {
     "name": "stderr",
     "output_type": "stream",
     "text": [
      "C:\\Users\\Mega Store\\AppData\\Local\\Temp\\ipykernel_7176\\2394361447.py:2: RuntimeWarning: divide by zero encountered in divide\n",
      "  print(np.array([1])/0)\n"
     ]
    }
   ],
   "source": [
    "print(np.sqrt(2))\n",
    "print(np.array([1])/0)"
   ]
  },
  {
   "cell_type": "code",
   "execution_count": 6,
   "id": "dba7d7dc",
   "metadata": {},
   "outputs": [
    {
     "name": "stdout",
     "output_type": "stream",
     "text": [
      "3.141592653589793\n",
      "36.0\n",
      "2.718281828459045\n"
     ]
    }
   ],
   "source": [
    "print(np.pi)\n",
    "print(np.sum(np.ones((12,3))))\n",
    "print(np.e)"
   ]
  },
  {
   "cell_type": "code",
   "execution_count": 7,
   "id": "6a75477a",
   "metadata": {},
   "outputs": [
    {
     "name": "stdout",
     "output_type": "stream",
     "text": [
      "[[144.3920825  165.01262281 167.15083194 144.76594239 165.33703001\n",
      "  172.01004608 159.4639071  171.70334446 175.43664783 153.31733754]\n",
      " [156.34815686 156.19445874 163.7548196  170.10431461 204.74478394\n",
      "  150.14509263 153.08914939 166.20461998 144.62142979 149.9740911 ]\n",
      " [170.42528915 188.75287499 169.78325333 152.16725622 172.74723945\n",
      "  176.12781951 161.68078316 163.01810389 185.15145049 169.39690273]\n",
      " [164.61719995 166.88096178 167.71541787 169.55475721 155.12032748\n",
      "  165.70281117 158.85528401 182.67861662 157.15350609 183.7294886 ]\n",
      " [146.81651465 189.49029074 167.96806009 159.76709871 150.88387027\n",
      "  180.28775104 184.93449946 167.432631   192.85020743 163.56166954]]\n"
     ]
    }
   ],
   "source": [
    "print(np.random.normal(loc = 170 , scale= 15   ,size=(5,10)))"
   ]
  },
  {
   "cell_type": "code",
   "execution_count": 8,
   "id": "953815c6",
   "metadata": {},
   "outputs": [],
   "source": [
    "import pandas as pd"
   ]
  },
  {
   "cell_type": "code",
   "execution_count": 9,
   "id": "76d143f5",
   "metadata": {},
   "outputs": [],
   "source": [
    "df = pd.DataFrame(np.random.normal(loc = 170 , scale= 15   ,size=(5,10)))"
   ]
  },
  {
   "cell_type": "code",
   "execution_count": 10,
   "id": "5586de19",
   "metadata": {},
   "outputs": [
    {
     "data": {
      "text/html": [
       "<div>\n",
       "<style scoped>\n",
       "    .dataframe tbody tr th:only-of-type {\n",
       "        vertical-align: middle;\n",
       "    }\n",
       "\n",
       "    .dataframe tbody tr th {\n",
       "        vertical-align: top;\n",
       "    }\n",
       "\n",
       "    .dataframe thead th {\n",
       "        text-align: right;\n",
       "    }\n",
       "</style>\n",
       "<table border=\"1\" class=\"dataframe\">\n",
       "  <thead>\n",
       "    <tr style=\"text-align: right;\">\n",
       "      <th></th>\n",
       "      <th>0</th>\n",
       "      <th>1</th>\n",
       "      <th>2</th>\n",
       "      <th>3</th>\n",
       "      <th>4</th>\n",
       "      <th>5</th>\n",
       "      <th>6</th>\n",
       "      <th>7</th>\n",
       "      <th>8</th>\n",
       "      <th>9</th>\n",
       "    </tr>\n",
       "  </thead>\n",
       "  <tbody>\n",
       "    <tr>\n",
       "      <th>0</th>\n",
       "      <td>174.295613</td>\n",
       "      <td>184.874985</td>\n",
       "      <td>181.718273</td>\n",
       "      <td>153.420153</td>\n",
       "      <td>170.690402</td>\n",
       "      <td>153.275544</td>\n",
       "      <td>193.716363</td>\n",
       "      <td>167.250776</td>\n",
       "      <td>162.708546</td>\n",
       "      <td>145.800997</td>\n",
       "    </tr>\n",
       "    <tr>\n",
       "      <th>1</th>\n",
       "      <td>170.827756</td>\n",
       "      <td>148.098028</td>\n",
       "      <td>189.154206</td>\n",
       "      <td>165.909007</td>\n",
       "      <td>176.063127</td>\n",
       "      <td>148.635203</td>\n",
       "      <td>164.554011</td>\n",
       "      <td>180.909726</td>\n",
       "      <td>168.506145</td>\n",
       "      <td>183.547958</td>\n",
       "    </tr>\n",
       "    <tr>\n",
       "      <th>2</th>\n",
       "      <td>164.909070</td>\n",
       "      <td>162.783041</td>\n",
       "      <td>167.144793</td>\n",
       "      <td>183.006709</td>\n",
       "      <td>167.411617</td>\n",
       "      <td>178.784264</td>\n",
       "      <td>176.297940</td>\n",
       "      <td>186.711538</td>\n",
       "      <td>158.813389</td>\n",
       "      <td>152.827058</td>\n",
       "    </tr>\n",
       "    <tr>\n",
       "      <th>3</th>\n",
       "      <td>175.563265</td>\n",
       "      <td>174.308984</td>\n",
       "      <td>168.223603</td>\n",
       "      <td>162.266081</td>\n",
       "      <td>158.251195</td>\n",
       "      <td>179.553845</td>\n",
       "      <td>187.723980</td>\n",
       "      <td>160.777158</td>\n",
       "      <td>163.325041</td>\n",
       "      <td>200.918092</td>\n",
       "    </tr>\n",
       "    <tr>\n",
       "      <th>4</th>\n",
       "      <td>177.029059</td>\n",
       "      <td>167.828471</td>\n",
       "      <td>189.030123</td>\n",
       "      <td>161.908906</td>\n",
       "      <td>154.721780</td>\n",
       "      <td>183.678556</td>\n",
       "      <td>148.711155</td>\n",
       "      <td>159.852425</td>\n",
       "      <td>178.273784</td>\n",
       "      <td>178.812643</td>\n",
       "    </tr>\n",
       "  </tbody>\n",
       "</table>\n",
       "</div>"
      ],
      "text/plain": [
       "            0           1           2           3           4           5  \\\n",
       "0  174.295613  184.874985  181.718273  153.420153  170.690402  153.275544   \n",
       "1  170.827756  148.098028  189.154206  165.909007  176.063127  148.635203   \n",
       "2  164.909070  162.783041  167.144793  183.006709  167.411617  178.784264   \n",
       "3  175.563265  174.308984  168.223603  162.266081  158.251195  179.553845   \n",
       "4  177.029059  167.828471  189.030123  161.908906  154.721780  183.678556   \n",
       "\n",
       "            6           7           8           9  \n",
       "0  193.716363  167.250776  162.708546  145.800997  \n",
       "1  164.554011  180.909726  168.506145  183.547958  \n",
       "2  176.297940  186.711538  158.813389  152.827058  \n",
       "3  187.723980  160.777158  163.325041  200.918092  \n",
       "4  148.711155  159.852425  178.273784  178.812643  "
      ]
     },
     "execution_count": 10,
     "metadata": {},
     "output_type": "execute_result"
    }
   ],
   "source": [
    "df"
   ]
  },
  {
   "cell_type": "code",
   "execution_count": 11,
   "id": "4f884877",
   "metadata": {},
   "outputs": [
    {
     "name": "stdout",
     "output_type": "stream",
     "text": [
      "<class 'pandas.core.frame.DataFrame'>\n",
      "RangeIndex: 5 entries, 0 to 4\n",
      "Data columns (total 10 columns):\n",
      " #   Column  Non-Null Count  Dtype  \n",
      "---  ------  --------------  -----  \n",
      " 0   0       5 non-null      float64\n",
      " 1   1       5 non-null      float64\n",
      " 2   2       5 non-null      float64\n",
      " 3   3       5 non-null      float64\n",
      " 4   4       5 non-null      float64\n",
      " 5   5       5 non-null      float64\n",
      " 6   6       5 non-null      float64\n",
      " 7   7       5 non-null      float64\n",
      " 8   8       5 non-null      float64\n",
      " 9   9       5 non-null      float64\n",
      "dtypes: float64(10)\n",
      "memory usage: 532.0 bytes\n"
     ]
    }
   ],
   "source": [
    "df.info()"
   ]
  },
  {
   "cell_type": "code",
   "execution_count": 12,
   "id": "2b0867be",
   "metadata": {},
   "outputs": [
    {
     "data": {
      "text/html": [
       "<div>\n",
       "<style scoped>\n",
       "    .dataframe tbody tr th:only-of-type {\n",
       "        vertical-align: middle;\n",
       "    }\n",
       "\n",
       "    .dataframe tbody tr th {\n",
       "        vertical-align: top;\n",
       "    }\n",
       "\n",
       "    .dataframe thead th {\n",
       "        text-align: right;\n",
       "    }\n",
       "</style>\n",
       "<table border=\"1\" class=\"dataframe\">\n",
       "  <thead>\n",
       "    <tr style=\"text-align: right;\">\n",
       "      <th></th>\n",
       "      <th>0</th>\n",
       "      <th>1</th>\n",
       "      <th>2</th>\n",
       "      <th>3</th>\n",
       "      <th>4</th>\n",
       "      <th>5</th>\n",
       "      <th>6</th>\n",
       "      <th>7</th>\n",
       "      <th>8</th>\n",
       "      <th>9</th>\n",
       "    </tr>\n",
       "  </thead>\n",
       "  <tbody>\n",
       "    <tr>\n",
       "      <th>count</th>\n",
       "      <td>5.000000</td>\n",
       "      <td>5.000000</td>\n",
       "      <td>5.000000</td>\n",
       "      <td>5.000000</td>\n",
       "      <td>5.000000</td>\n",
       "      <td>5.000000</td>\n",
       "      <td>5.000000</td>\n",
       "      <td>5.000000</td>\n",
       "      <td>5.000000</td>\n",
       "      <td>5.000000</td>\n",
       "    </tr>\n",
       "    <tr>\n",
       "      <th>mean</th>\n",
       "      <td>172.524953</td>\n",
       "      <td>167.578702</td>\n",
       "      <td>179.054200</td>\n",
       "      <td>165.302171</td>\n",
       "      <td>165.427624</td>\n",
       "      <td>168.785482</td>\n",
       "      <td>174.200690</td>\n",
       "      <td>171.100325</td>\n",
       "      <td>166.325381</td>\n",
       "      <td>172.381350</td>\n",
       "    </tr>\n",
       "    <tr>\n",
       "      <th>std</th>\n",
       "      <td>4.835693</td>\n",
       "      <td>13.665792</td>\n",
       "      <td>10.813906</td>\n",
       "      <td>10.905656</td>\n",
       "      <td>8.815657</td>\n",
       "      <td>16.464575</td>\n",
       "      <td>18.103274</td>\n",
       "      <td>12.122669</td>\n",
       "      <td>7.517207</td>\n",
       "      <td>22.744702</td>\n",
       "    </tr>\n",
       "    <tr>\n",
       "      <th>min</th>\n",
       "      <td>164.909070</td>\n",
       "      <td>148.098028</td>\n",
       "      <td>167.144793</td>\n",
       "      <td>153.420153</td>\n",
       "      <td>154.721780</td>\n",
       "      <td>148.635203</td>\n",
       "      <td>148.711155</td>\n",
       "      <td>159.852425</td>\n",
       "      <td>158.813389</td>\n",
       "      <td>145.800997</td>\n",
       "    </tr>\n",
       "    <tr>\n",
       "      <th>25%</th>\n",
       "      <td>170.827756</td>\n",
       "      <td>162.783041</td>\n",
       "      <td>168.223603</td>\n",
       "      <td>161.908906</td>\n",
       "      <td>158.251195</td>\n",
       "      <td>153.275544</td>\n",
       "      <td>164.554011</td>\n",
       "      <td>160.777158</td>\n",
       "      <td>162.708546</td>\n",
       "      <td>152.827058</td>\n",
       "    </tr>\n",
       "    <tr>\n",
       "      <th>50%</th>\n",
       "      <td>174.295613</td>\n",
       "      <td>167.828471</td>\n",
       "      <td>181.718273</td>\n",
       "      <td>162.266081</td>\n",
       "      <td>167.411617</td>\n",
       "      <td>178.784264</td>\n",
       "      <td>176.297940</td>\n",
       "      <td>167.250776</td>\n",
       "      <td>163.325041</td>\n",
       "      <td>178.812643</td>\n",
       "    </tr>\n",
       "    <tr>\n",
       "      <th>75%</th>\n",
       "      <td>175.563265</td>\n",
       "      <td>174.308984</td>\n",
       "      <td>189.030123</td>\n",
       "      <td>165.909007</td>\n",
       "      <td>170.690402</td>\n",
       "      <td>179.553845</td>\n",
       "      <td>187.723980</td>\n",
       "      <td>180.909726</td>\n",
       "      <td>168.506145</td>\n",
       "      <td>183.547958</td>\n",
       "    </tr>\n",
       "    <tr>\n",
       "      <th>max</th>\n",
       "      <td>177.029059</td>\n",
       "      <td>184.874985</td>\n",
       "      <td>189.154206</td>\n",
       "      <td>183.006709</td>\n",
       "      <td>176.063127</td>\n",
       "      <td>183.678556</td>\n",
       "      <td>193.716363</td>\n",
       "      <td>186.711538</td>\n",
       "      <td>178.273784</td>\n",
       "      <td>200.918092</td>\n",
       "    </tr>\n",
       "  </tbody>\n",
       "</table>\n",
       "</div>"
      ],
      "text/plain": [
       "                0           1           2           3           4           5  \\\n",
       "count    5.000000    5.000000    5.000000    5.000000    5.000000    5.000000   \n",
       "mean   172.524953  167.578702  179.054200  165.302171  165.427624  168.785482   \n",
       "std      4.835693   13.665792   10.813906   10.905656    8.815657   16.464575   \n",
       "min    164.909070  148.098028  167.144793  153.420153  154.721780  148.635203   \n",
       "25%    170.827756  162.783041  168.223603  161.908906  158.251195  153.275544   \n",
       "50%    174.295613  167.828471  181.718273  162.266081  167.411617  178.784264   \n",
       "75%    175.563265  174.308984  189.030123  165.909007  170.690402  179.553845   \n",
       "max    177.029059  184.874985  189.154206  183.006709  176.063127  183.678556   \n",
       "\n",
       "                6           7           8           9  \n",
       "count    5.000000    5.000000    5.000000    5.000000  \n",
       "mean   174.200690  171.100325  166.325381  172.381350  \n",
       "std     18.103274   12.122669    7.517207   22.744702  \n",
       "min    148.711155  159.852425  158.813389  145.800997  \n",
       "25%    164.554011  160.777158  162.708546  152.827058  \n",
       "50%    176.297940  167.250776  163.325041  178.812643  \n",
       "75%    187.723980  180.909726  168.506145  183.547958  \n",
       "max    193.716363  186.711538  178.273784  200.918092  "
      ]
     },
     "execution_count": 12,
     "metadata": {},
     "output_type": "execute_result"
    }
   ],
   "source": [
    "df.describe()"
   ]
  },
  {
   "cell_type": "code",
   "execution_count": 13,
   "id": "0d75e7b9",
   "metadata": {},
   "outputs": [
    {
     "data": {
      "text/plain": [
       "(5, 10)"
      ]
     },
     "execution_count": 13,
     "metadata": {},
     "output_type": "execute_result"
    }
   ],
   "source": [
    "df.shape"
   ]
  },
  {
   "cell_type": "code",
   "execution_count": 1,
   "id": "ff83e3ef",
   "metadata": {},
   "outputs": [],
   "source": [
    "import torch"
   ]
  }
 ],
 "metadata": {
  "kernelspec": {
   "display_name": "base",
   "language": "python",
   "name": "python3"
  },
  "language_info": {
   "codemirror_mode": {
    "name": "ipython",
    "version": 3
   },
   "file_extension": ".py",
   "mimetype": "text/x-python",
   "name": "python",
   "nbconvert_exporter": "python",
   "pygments_lexer": "ipython3",
   "version": "3.13.5"
  }
 },
 "nbformat": 4,
 "nbformat_minor": 5
}
